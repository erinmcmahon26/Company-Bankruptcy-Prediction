{
  "nbformat": 4,
  "nbformat_minor": 0,
  "metadata": {
    "colab": {
      "name": "Company_Bankruptcy_SMOTE.ipynb",
      "provenance": [],
      "toc_visible": true,
      "authorship_tag": "ABX9TyMtaWQqA0XneMMfh07LDUR3",
      "include_colab_link": true
    },
    "kernelspec": {
      "name": "python3",
      "display_name": "Python 3"
    },
    "language_info": {
      "name": "python"
    }
  },
  "cells": [
    {
      "cell_type": "markdown",
      "metadata": {
        "id": "view-in-github",
        "colab_type": "text"
      },
      "source": [
        "<a href=\"https://colab.research.google.com/github/erinmcmahon26/Company-Bankruptcy-Prediction-Kaggle/blob/main/Company_Bankruptcy_SMOTE.ipynb\" target=\"_parent\"><img src=\"https://colab.research.google.com/assets/colab-badge.svg\" alt=\"Open In Colab\"/></a>"
      ]
    },
    {
      "cell_type": "markdown",
      "source": [
        "### Ingest Data"
      ],
      "metadata": {
        "id": "YADXLtG7OeN6"
      }
    },
    {
      "cell_type": "code",
      "execution_count": 31,
      "metadata": {
        "id": "bm68UkahTivp"
      },
      "outputs": [],
      "source": [
        "import pandas as pd\n",
        "import numpy as np\n",
        "import seaborn as sns\n",
        "import sklearn\n",
        "from sklearn import preprocessing\n",
        "from sklearn.preprocessing import StandardScaler\n",
        "from sklearn.model_selection import train_test_split, cross_val_score, cross_val_predict\n",
        "import matplotlib.pyplot as plt\n",
        "from matplotlib.pyplot import figure\n",
        "from patsy import dmatrices\n",
        "from statsmodels.stats.outliers_influence import variance_inflation_factor\n",
        "from sklearn.metrics import recall_score, confusion_matrix, precision_score, f1_score, accuracy_score, classification_report \n",
        "from sklearn.metrics import roc_auc_score, precision_recall_curve, roc_curve, confusion_matrix\n",
        "from sklearn.naive_bayes import GaussianNB\n",
        "from sklearn.linear_model import LogisticRegression\n",
        "from sklearn.svm import SVC\n",
        "from sklearn.svm import LinearSVR\n",
        "from sklearn.linear_model import SGDClassifier\n",
        "from numpy import arange\n",
        "from sklearn.model_selection import GridSearchCV\n",
        "from sklearn.model_selection import RepeatedKFold"
      ]
    },
    {
      "cell_type": "code",
      "source": [
        "df_bank = pd.read_csv('https://raw.githubusercontent.com/erinmcmahon26/Company-Bankruptcy-Prediction-Kaggle/main/company_bankruptcy.csv')"
      ],
      "metadata": {
        "id": "V6y5yVDQTs9s"
      },
      "execution_count": 32,
      "outputs": []
    },
    {
      "cell_type": "code",
      "source": [
        "sns.countplot(x='Bankrupt?', data=df_bank)"
      ],
      "metadata": {
        "colab": {
          "base_uri": "https://localhost:8080/",
          "height": 296
        },
        "id": "KVr5FnyvCq7K",
        "outputId": "0acfcc05-f08c-4014-b9a6-823e971ee56d"
      },
      "execution_count": 33,
      "outputs": [
        {
          "output_type": "execute_result",
          "data": {
            "text/plain": [
              "<matplotlib.axes._subplots.AxesSubplot at 0x7f4a3d29cd10>"
            ]
          },
          "metadata": {},
          "execution_count": 33
        },
        {
          "output_type": "display_data",
          "data": {
            "image/png": "[encoded data removed]",
            "text/plain": [
              "<Figure size 432x288 with 1 Axes>"
            ]
          },
          "metadata": {
            "needs_background": "light"
          }
        }
      ]
    },
    {
      "cell_type": "code",
      "source": [
        "df_bank['Bankrupt?'].value_counts()"
      ],
      "metadata": {
        "colab": {
          "base_uri": "https://localhost:8080/"
        },
        "id": "Vr4oXGL8GN2a",
        "outputId": "fb6d56ba-f563-4bf2-95da-da64c6024068"
      },
      "execution_count": 34,
      "outputs": [
        {
          "output_type": "execute_result",
          "data": {
            "text/plain": [
              "0    6599\n",
              "1     220\n",
              "Name: Bankrupt?, dtype: int64"
            ]
          },
          "metadata": {},
          "execution_count": 34
        }
      ]
    },
    {
      "cell_type": "markdown",
      "source": [
        "Due to this dataset being highly skewed, I am going to use SMOTE to even out the classes. SMOTE will oversample the minority class by synthesizing new examples based on the examples already provided. It will randomly select example and then assess k of the nearest neighbors for that example. Then a randomly selected neighbor will be chosen till the process has produced even classes. A downside to this approach is that the examples are being created without considering the majority class which could result in ambiguous examples. Most likely in the real world, this dataset would require additional data, a new business question be asked, or start from scratch. "
      ],
      "metadata": {
        "id": "ZwGdvTwpCvHI"
      }
    },
    {
      "cell_type": "markdown",
      "source": [
        "### Resampling using SMOTE"
      ],
      "metadata": {
        "id": "5m8sqt0qOjFk"
      }
    },
    {
      "cell_type": "code",
      "source": [
        "y = df_bank['Bankrupt?']\n",
        "x = df_bank.drop('Bankrupt?', axis=1)"
      ],
      "metadata": {
        "id": "yhpFZlUHVaH4"
      },
      "execution_count": 35,
      "outputs": []
    },
    {
      "cell_type": "code",
      "source": [
        "scaler = StandardScaler()\n",
        "x = scaler.fit_transform(x.astype(np.float64))"
      ],
      "metadata": {
        "id": "HfHxMW4cVfh9"
      },
      "execution_count": 36,
      "outputs": []
    },
    {
      "cell_type": "code",
      "source": [
        "x_train, x_test, y_train, y_test = train_test_split(x, y, test_size = .2, random_state = 42)"
      ],
      "metadata": {
        "id": "7JiwSuBhZNe-"
      },
      "execution_count": 37,
      "outputs": []
    },
    {
      "cell_type": "code",
      "source": [
        "import imblearn\n",
        "from imblearn import under_sampling, over_sampling\n",
        "from imblearn.over_sampling import SMOTE\n",
        "from imblearn.under_sampling import RandomUnderSampler\n",
        "from imblearn.pipeline import Pipeline\n",
        "from collections import Counter"
      ],
      "metadata": {
        "id": "ILY_pj6FU32q"
      },
      "execution_count": 63,
      "outputs": []
    },
    {
      "cell_type": "markdown",
      "source": [
        "Below we will oversample the minority class to have more examples than the mahoirty class."
      ],
      "metadata": {
        "id": "JjBSij3FEsuA"
      }
    },
    {
      "cell_type": "code",
      "source": [
        "oversample = SMOTE()\n",
        "x_smt, y_smt = oversample.fit_resample(x_train,y_train)"
      ],
      "metadata": {
        "id": "DV--XUQ9U-FW"
      },
      "execution_count": 39,
      "outputs": []
    },
    {
      "cell_type": "code",
      "source": [
        "count = Counter(y_smt)\n",
        "count"
      ],
      "metadata": {
        "colab": {
          "base_uri": "https://localhost:8080/"
        },
        "id": "yXYXPj8eYJtW",
        "outputId": "e8d5396d-00e1-4d3d-a563-6f8595175e61"
      },
      "execution_count": 65,
      "outputs": [
        {
          "output_type": "execute_result",
          "data": {
            "text/plain": [
              "Counter({0: 5286, 1: 5286})"
            ]
          },
          "metadata": {},
          "execution_count": 65
        }
      ]
    },
    {
      "cell_type": "code",
      "source": [
        "Counter(y)"
      ],
      "metadata": {
        "colab": {
          "base_uri": "https://localhost:8080/"
        },
        "id": "fqNZm1oiLeJk",
        "outputId": "18d02032-7771-4735-8482-03b81909629f"
      },
      "execution_count": 67,
      "outputs": [
        {
          "output_type": "execute_result",
          "data": {
            "text/plain": [
              "Counter({0: 6599, 1: 220})"
            ]
          },
          "metadata": {},
          "execution_count": 67
        }
      ]
    },
    {
      "cell_type": "markdown",
      "source": [
        "Now we will randomly undersample the majority class. Being able to oversample the minority class will help improve bias towards those examples while undersampling the majority class will decrease the bias to those examples. "
      ],
      "metadata": {
        "id": "r3TfaKBDE4_-"
      }
    },
    {
      "cell_type": "code",
      "source": [
        "over = SMOTE(sampling_strategy='minority')\n",
        "under = RandomUnderSampler(sampling_strategy='majority')"
      ],
      "metadata": {
        "id": "V072KHFXErhl"
      },
      "execution_count": 77,
      "outputs": []
    },
    {
      "cell_type": "code",
      "source": [
        "steps = [('o', over), ('u', under)]\n",
        "pipeline = Pipeline(steps=steps)"
      ],
      "metadata": {
        "id": "k4Fb-vjHFZ1A"
      },
      "execution_count": 78,
      "outputs": []
    },
    {
      "cell_type": "code",
      "source": [
        "x_smt2, y_smt2 = pipeline.fit_resample(x_smt, y_smt)"
      ],
      "metadata": {
        "id": "NcL6aZxPJLri"
      },
      "execution_count": 79,
      "outputs": []
    },
    {
      "cell_type": "markdown",
      "source": [
        "### Models"
      ],
      "metadata": {
        "id": "21aKIOsQOojk"
      }
    },
    {
      "cell_type": "markdown",
      "source": [
        "#### SMV no kernal"
      ],
      "metadata": {
        "id": "I4qXYsd3Op_P"
      }
    },
    {
      "cell_type": "code",
      "source": [
        "svc = SVC()\n",
        "svc.fit(x_smt2, y_smt2)\n",
        "\n",
        "sy_pred = svc.predict(x_test)\n",
        "cm = confusion_matrix(y_test, sy_pred)\n",
        "\n",
        "sva = accuracy_score(y_test, sy_pred)\n",
        "print('accuracy score = ',accuracy_score(y_test, sy_pred))\n",
        "print(\"Classification Report\",classification_report(y_test, sy_pred))\n",
        "\n",
        "sns.heatmap(cm,annot=True,fmt=\"d\",cmap = \"Blues\")"
      ],
      "metadata": {
        "colab": {
          "base_uri": "https://localhost:8080/",
          "height": 456
        },
        "id": "ST4F4abwZEgK",
        "outputId": "2f34d486-5a67-41f6-a279-a5305c15af0b"
      },
      "execution_count": 80,
      "outputs": [
        {
          "output_type": "stream",
          "name": "stdout",
          "text": [
            "accuracy score =  0.8841642228739003\n",
            "Classification Report               precision    recall  f1-score   support\n",
            "\n",
            "           0       0.99      0.89      0.94      1313\n",
            "           1       0.19      0.67      0.30        51\n",
            "\n",
            "    accuracy                           0.88      1364\n",
            "   macro avg       0.59      0.78      0.62      1364\n",
            "weighted avg       0.96      0.88      0.91      1364\n",
            "\n"
          ]
        },
        {
          "output_type": "execute_result",
          "data": {
            "text/plain": [
              "<matplotlib.axes._subplots.AxesSubplot at 0x7f4a3d069590>"
            ]
          },
          "metadata": {},
          "execution_count": 80
        },
        {
          "output_type": "display_data",
          "data": {
            "image/png": "[encoded data removed]",
            "text/plain": [
              "<Figure size 432x288 with 2 Axes>"
            ]
          },
          "metadata": {
            "needs_background": "light"
          }
        }
      ]
    },
    {
      "cell_type": "markdown",
      "source": [
        "#### Logistic Regression"
      ],
      "metadata": {
        "id": "iCpjay80Ot8q"
      }
    },
    {
      "cell_type": "code",
      "source": [
        "lr_model = LogisticRegression()\n",
        "lr_model.fit(x_smt2,y_smt2)\n",
        "accuracy_lr = lr_model.score(x_test,y_test)\n",
        "print(\"Logistic Regression accuracy is :\",accuracy_lr)\n",
        "ly_pred= lr_model.predict(x_test)\n",
        "report = classification_report(y_test,ly_pred)\n",
        "print(\"-\"*100)\n",
        "print(report)\n",
        "cm = confusion_matrix(y_test,lr_model.predict(x_test))\n",
        "sns.heatmap(cm,annot=True,fmt=\"d\",cmap = \"Blues\")"
      ],
      "metadata": {
        "colab": {
          "base_uri": "https://localhost:8080/",
          "height": 612
        },
        "id": "mRNMUBk5ZU9-",
        "outputId": "3c5a1f2f-7980-45f0-f4af-5561673ad16d"
      },
      "execution_count": 81,
      "outputs": [
        {
          "output_type": "stream",
          "name": "stdout",
          "text": [
            "Logistic Regression accuracy is : 0.874633431085044\n",
            "----------------------------------------------------------------------------------------------------\n",
            "              precision    recall  f1-score   support\n",
            "\n",
            "           0       0.99      0.88      0.93      1313\n",
            "           1       0.19      0.73      0.30        51\n",
            "\n",
            "    accuracy                           0.87      1364\n",
            "   macro avg       0.59      0.80      0.62      1364\n",
            "weighted avg       0.96      0.87      0.91      1364\n",
            "\n"
          ]
        },
        {
          "output_type": "stream",
          "name": "stderr",
          "text": [
            "/usr/local/lib/python3.7/dist-packages/sklearn/linear_model/_logistic.py:818: ConvergenceWarning: lbfgs failed to converge (status=1):\n",
            "STOP: TOTAL NO. of ITERATIONS REACHED LIMIT.\n",
            "\n",
            "Increase the number of iterations (max_iter) or scale the data as shown in:\n",
            "    https://scikit-learn.org/stable/modules/preprocessing.html\n",
            "Please also refer to the documentation for alternative solver options:\n",
            "    https://scikit-learn.org/stable/modules/linear_model.html#logistic-regression\n",
            "  extra_warning_msg=_LOGISTIC_SOLVER_CONVERGENCE_MSG,\n"
          ]
        },
        {
          "output_type": "execute_result",
          "data": {
            "text/plain": [
              "<matplotlib.axes._subplots.AxesSubplot at 0x7f4a3d081d50>"
            ]
          },
          "metadata": {},
          "execution_count": 81
        },
        {
          "output_type": "display_data",
          "data": {
            "image/png": "[encoded data removed]",
            "text/plain": [
              "<Figure size 432x288 with 2 Axes>"
            ]
          },
          "metadata": {
            "needs_background": "light"
          }
        }
      ]
    },
    {
      "cell_type": "markdown",
      "source": [
        "#### Naive Bayes"
      ],
      "metadata": {
        "id": "j9cIICKDOwHK"
      }
    },
    {
      "cell_type": "code",
      "source": [
        "nb = GaussianNB()\n",
        "nb.fit(x_smt2,y_smt2)\n",
        "\n",
        "ny_pred = nb.predict(x_test)\n",
        "cm = confusion_matrix(y_test,ny_pred)\n",
        "\n",
        "nba = accuracy_score(y_test, ny_pred)\n",
        "print('accuracy score = ', accuracy_score(y_test, ny_pred))\n",
        "print(\"Report:\", classification_report(y_test, ny_pred))\n",
        "\n",
        "sns.heatmap(cm,annot=True,fmt=\"d\",cmap = \"Blues\")"
      ],
      "metadata": {
        "colab": {
          "base_uri": "https://localhost:8080/",
          "height": 456
        },
        "id": "TKFqZzeAZodD",
        "outputId": "2999ec2c-fd58-40fa-9927-3e6f8ff6f4c6"
      },
      "execution_count": 82,
      "outputs": [
        {
          "output_type": "stream",
          "name": "stdout",
          "text": [
            "accuracy score =  0.2118768328445748\n",
            "Report:               precision    recall  f1-score   support\n",
            "\n",
            "           0       0.98      0.19      0.31      1313\n",
            "           1       0.04      0.90      0.08        51\n",
            "\n",
            "    accuracy                           0.21      1364\n",
            "   macro avg       0.51      0.54      0.20      1364\n",
            "weighted avg       0.94      0.21      0.30      1364\n",
            "\n"
          ]
        },
        {
          "output_type": "execute_result",
          "data": {
            "text/plain": [
              "<matplotlib.axes._subplots.AxesSubplot at 0x7f4a3cc26050>"
            ]
          },
          "metadata": {},
          "execution_count": 82
        },
        {
          "output_type": "display_data",
          "data": {
            "image/png": "[encoded data removed]",
            "text/plain": [
              "<Figure size 432x288 with 2 Axes>"
            ]
          },
          "metadata": {
            "needs_background": "light"
          }
        }
      ]
    },
    {
      "cell_type": "markdown",
      "source": [
        "### Conclusions"
      ],
      "metadata": {
        "id": "VW8LJvQ0O9Qk"
      }
    },
    {
      "cell_type": "code",
      "source": [
        "plt.figure(figsize= (8,7))\n",
        "ac = [accuracy_lr,sva,nba]\n",
        "name = ['Logistic Regression','SVM','Naive Bayes']\n",
        "sns.barplot(x = ac,y = name,palette='pastel')\n",
        "plt.title(\"Plotting the Model Accuracies\", fontsize=16, fontweight=\"bold\")"
      ],
      "metadata": {
        "colab": {
          "base_uri": "https://localhost:8080/",
          "height": 463
        },
        "id": "YK5nnXfCZsgm",
        "outputId": "4bd61df8-f4be-4ebb-efc4-30ff18d99c06"
      },
      "execution_count": 89,
      "outputs": [
        {
          "output_type": "execute_result",
          "data": {
            "text/plain": [
              "Text(0.5, 1.0, 'Plotting the Model Accuracies')"
            ]
          },
          "metadata": {},
          "execution_count": 89
        },
        {
          "output_type": "display_data",
          "data": {
            "image/png": "[encoded data removed]",
            "text/plain": [
              "<Figure size 576x504 with 1 Axes>"
            ]
          },
          "metadata": {
            "needs_background": "light"
          }
        }
      ]
    },
    {
      "cell_type": "markdown",
      "source": [
        "After using SMOTE versus taking a sample of the original data (in my other notebook) there is almost no change in accuracy for the LR and SVM models. Using SMOTE caused the accuracy of the Naive Bayes model to decrease dramatically. There was however, an increase in both precision and recall for both the LR and SVM. Even with using random over and under fitting of the classes, it did not greatly increase model accuracy. Just using overfitting of the minority class cause an increase in all model accuracy but this could allow for overgeneralizing and augmenting noisy regions.  "
      ],
      "metadata": {
        "id": "iXbC7FJCO-xM"
      }
    },
    {
      "cell_type": "code",
      "source": [
        ""
      ],
      "metadata": {
        "id": "HIZ-xB90O4j8"
      },
      "execution_count": null,
      "outputs": []
    }
  ]
}