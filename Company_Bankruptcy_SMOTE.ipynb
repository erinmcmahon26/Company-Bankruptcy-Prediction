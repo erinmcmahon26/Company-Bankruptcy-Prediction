{
  "nbformat": 4,
  "nbformat_minor": 0,
  "metadata": {
    "colab": {
      "name": "Company_Bankruptcy_SMOTE.ipynb",
      "provenance": [],
      "authorship_tag": "ABX9TyOfA1k1gI+HOGyLxKcUHKSO",
      "include_colab_link": true
    },
    "kernelspec": {
      "name": "python3",
      "display_name": "Python 3"
    },
    "language_info": {
      "name": "python"
    }
  },
  "cells": [
    {
      "cell_type": "markdown",
      "metadata": {
        "id": "view-in-github",
        "colab_type": "text"
      },
      "source": [
        "<a href=\"https://colab.research.google.com/github/erinmcmahon26/Company-Bankruptcy-Prediction-Kaggle/blob/main/Company_Bankruptcy_SMOTE.ipynb\" target=\"_parent\"><img src=\"https://colab.research.google.com/assets/colab-badge.svg\" alt=\"Open In Colab\"/></a>"
      ]
    },
    {
      "cell_type": "code",
      "execution_count": 26,
      "metadata": {
        "id": "bm68UkahTivp"
      },
      "outputs": [],
      "source": [
        "import pandas as pd\n",
        "import numpy as np\n",
        "import seaborn as sns\n",
        "import sklearn\n",
        "from sklearn import preprocessing\n",
        "from sklearn.preprocessing import StandardScaler\n",
        "from sklearn.model_selection import train_test_split, cross_val_score, cross_val_predict\n",
        "import matplotlib.pyplot as plt\n",
        "from matplotlib.pyplot import figure\n",
        "from patsy import dmatrices\n",
        "from statsmodels.stats.outliers_influence import variance_inflation_factor\n",
        "from sklearn.metrics import recall_score, confusion_matrix, precision_score, f1_score, accuracy_score, classification_report \n",
        "from sklearn.metrics import roc_auc_score, precision_recall_curve, roc_curve, confusion_matrix\n",
        "from sklearn.naive_bayes import GaussianNB\n",
        "from sklearn.linear_model import LogisticRegression\n",
        "from sklearn.svm import SVC\n",
        "from sklearn.svm import LinearSVR\n",
        "from sklearn.linear_model import SGDClassifier\n",
        "from numpy import arange\n",
        "from sklearn.model_selection import GridSearchCV\n",
        "from sklearn.model_selection import RepeatedKFold"
      ]
    },
    {
      "cell_type": "code",
      "source": [
        "df_bank = pd.read_csv('https://raw.githubusercontent.com/erinmcmahon26/Company-Bankruptcy-Prediction-Kaggle/main/company_bankruptcy.csv')"
      ],
      "metadata": {
        "id": "V6y5yVDQTs9s"
      },
      "execution_count": 2,
      "outputs": []
    },
    {
      "cell_type": "code",
      "source": [
        "#pip install imbalanced-learn"
      ],
      "metadata": {
        "colab": {
          "base_uri": "https://localhost:8080/"
        },
        "id": "EXGev-w2TvKf",
        "outputId": "7dffadfb-66fa-4f3b-a0ab-ebe8a48378a1"
      },
      "execution_count": 3,
      "outputs": [
        {
          "output_type": "stream",
          "name": "stdout",
          "text": [
            "Requirement already satisfied: imbalanced-learn in /usr/local/lib/python3.7/dist-packages (0.8.1)\n",
            "Requirement already satisfied: scikit-learn>=0.24 in /usr/local/lib/python3.7/dist-packages (from imbalanced-learn) (1.0.2)\n",
            "Requirement already satisfied: joblib>=0.11 in /usr/local/lib/python3.7/dist-packages (from imbalanced-learn) (1.1.0)\n",
            "Requirement already satisfied: numpy>=1.13.3 in /usr/local/lib/python3.7/dist-packages (from imbalanced-learn) (1.19.5)\n",
            "Requirement already satisfied: scipy>=0.19.1 in /usr/local/lib/python3.7/dist-packages (from imbalanced-learn) (1.4.1)\n",
            "Requirement already satisfied: threadpoolctl>=2.0.0 in /usr/local/lib/python3.7/dist-packages (from scikit-learn>=0.24->imbalanced-learn) (3.0.0)\n"
          ]
        }
      ]
    },
    {
      "cell_type": "code",
      "source": [
        "import imblearn\n",
        "from imblearn import under_sampling, over_sampling\n",
        "from imblearn.over_sampling import SMOTE"
      ],
      "metadata": {
        "id": "ILY_pj6FU32q"
      },
      "execution_count": 10,
      "outputs": []
    },
    {
      "cell_type": "code",
      "source": [
        "y = df_bank['Bankrupt?']\n",
        "x = df_bank.drop('Bankrupt?', axis=1)"
      ],
      "metadata": {
        "id": "yhpFZlUHVaH4"
      },
      "execution_count": 5,
      "outputs": []
    },
    {
      "cell_type": "code",
      "source": [
        "scaler = StandardScaler()\n",
        "x = scaler.fit_transform(x.astype(np.float64))"
      ],
      "metadata": {
        "id": "HfHxMW4cVfh9"
      },
      "execution_count": 6,
      "outputs": []
    },
    {
      "cell_type": "code",
      "source": [
        "oversample = SMOTE()\n",
        "x, y = oversample.fit_resample(x,y)"
      ],
      "metadata": {
        "id": "DV--XUQ9U-FW"
      },
      "execution_count": 11,
      "outputs": []
    },
    {
      "cell_type": "code",
      "source": [
        "x.shape"
      ],
      "metadata": {
        "colab": {
          "base_uri": "https://localhost:8080/"
        },
        "id": "yXYXPj8eYJtW",
        "outputId": "e4dcfbee-0f9b-4b2e-ac3a-5805312aba94"
      },
      "execution_count": 37,
      "outputs": [
        {
          "output_type": "execute_result",
          "data": {
            "text/plain": [
              "(13198, 95)"
            ]
          },
          "metadata": {},
          "execution_count": 37
        }
      ]
    },
    {
      "cell_type": "code",
      "source": [
        "y.shape"
      ],
      "metadata": {
        "colab": {
          "base_uri": "https://localhost:8080/"
        },
        "id": "taNC1rjbZDzD",
        "outputId": "92269d98-2489-4cc7-ea8d-dadff4b3d9c7"
      },
      "execution_count": 38,
      "outputs": [
        {
          "output_type": "execute_result",
          "data": {
            "text/plain": [
              "(13198,)"
            ]
          },
          "metadata": {},
          "execution_count": 38
        }
      ]
    },
    {
      "cell_type": "code",
      "source": [
        "x_train, x_test, y_train, y_test = train_test_split(\n",
        "    x,\n",
        "    y,\n",
        "    test_size = .2,\n",
        "    random_state = 42)"
      ],
      "metadata": {
        "id": "7JiwSuBhZNe-"
      },
      "execution_count": 41,
      "outputs": []
    },
    {
      "cell_type": "code",
      "source": [
        "svc = SVC()\n",
        "svc.fit(x_train, y_train)\n",
        "\n",
        "sy_pred = svc.predict(x_test)\n",
        "cm = confusion_matrix(y_test, sy_pred)\n",
        "\n",
        "sva = accuracy_score(y_test, sy_pred)\n",
        "print('accuracy score = ',accuracy_score(y_test, sy_pred))\n",
        "print(\"Classification Report\",classification_report(y_test, sy_pred))\n",
        "\n",
        "sns.heatmap(cm,annot=True,fmt=\"d\",cmap = \"Blues\")"
      ],
      "metadata": {
        "colab": {
          "base_uri": "https://localhost:8080/",
          "height": 456
        },
        "id": "ST4F4abwZEgK",
        "outputId": "803211aa-f330-45e1-8864-9f87c94b5468"
      },
      "execution_count": 42,
      "outputs": [
        {
          "output_type": "stream",
          "name": "stdout",
          "text": [
            "accuracy score =  0.9276515151515151\n",
            "Classification Report               precision    recall  f1-score   support\n",
            "\n",
            "           0       0.97      0.88      0.92      1334\n",
            "           1       0.89      0.98      0.93      1306\n",
            "\n",
            "    accuracy                           0.93      2640\n",
            "   macro avg       0.93      0.93      0.93      2640\n",
            "weighted avg       0.93      0.93      0.93      2640\n",
            "\n"
          ]
        },
        {
          "output_type": "execute_result",
          "data": {
            "text/plain": [
              "<matplotlib.axes._subplots.AxesSubplot at 0x7f3aa41e0490>"
            ]
          },
          "metadata": {},
          "execution_count": 42
        },
        {
          "output_type": "display_data",
          "data": {
            "image/png": "[encoded data removed]",
            "text/plain": [
              "<Figure size 432x288 with 2 Axes>"
            ]
          },
          "metadata": {
            "needs_background": "light"
          }
        }
      ]
    },
    {
      "cell_type": "code",
      "source": [
        "lr_model = LogisticRegression()\n",
        "lr_model.fit(x_train,y_train)\n",
        "accuracy_lr = lr_model.score(x_test,y_test)\n",
        "print(\"Logistic Regression accuracy is :\",accuracy_lr)\n",
        "ly_pred= lr_model.predict(x_test)\n",
        "report = classification_report(y_test,ly_pred)\n",
        "print(\"-\"*100)\n",
        "print(report)\n",
        "cm = confusion_matrix(y_test,lr_model.predict(x_test))\n",
        "sns.heatmap(cm,annot=True,fmt=\"d\",cmap = \"Blues\")"
      ],
      "metadata": {
        "colab": {
          "base_uri": "https://localhost:8080/",
          "height": 612
        },
        "id": "mRNMUBk5ZU9-",
        "outputId": "1bedb2db-766c-479d-97d9-803e5b27d865"
      },
      "execution_count": 43,
      "outputs": [
        {
          "output_type": "stream",
          "name": "stderr",
          "text": [
            "/usr/local/lib/python3.7/dist-packages/sklearn/linear_model/_logistic.py:818: ConvergenceWarning: lbfgs failed to converge (status=1):\n",
            "STOP: TOTAL NO. of ITERATIONS REACHED LIMIT.\n",
            "\n",
            "Increase the number of iterations (max_iter) or scale the data as shown in:\n",
            "    https://scikit-learn.org/stable/modules/preprocessing.html\n",
            "Please also refer to the documentation for alternative solver options:\n",
            "    https://scikit-learn.org/stable/modules/linear_model.html#logistic-regression\n",
            "  extra_warning_msg=_LOGISTIC_SOLVER_CONVERGENCE_MSG,\n"
          ]
        },
        {
          "output_type": "stream",
          "name": "stdout",
          "text": [
            "Logistic Regression accuracy is : 0.8958333333333334\n",
            "----------------------------------------------------------------------------------------------------\n",
            "              precision    recall  f1-score   support\n",
            "\n",
            "           0       0.91      0.88      0.90      1334\n",
            "           1       0.88      0.91      0.90      1306\n",
            "\n",
            "    accuracy                           0.90      2640\n",
            "   macro avg       0.90      0.90      0.90      2640\n",
            "weighted avg       0.90      0.90      0.90      2640\n",
            "\n"
          ]
        },
        {
          "output_type": "execute_result",
          "data": {
            "text/plain": [
              "<matplotlib.axes._subplots.AxesSubplot at 0x7f3aa3b8e150>"
            ]
          },
          "metadata": {},
          "execution_count": 43
        },
        {
          "output_type": "display_data",
          "data": {
            "image/png": "[encoded data removed]",
            "text/plain": [
              "<Figure size 432x288 with 2 Axes>"
            ]
          },
          "metadata": {
            "needs_background": "light"
          }
        }
      ]
    },
    {
      "cell_type": "code",
      "source": [
        "nb = GaussianNB()\n",
        "nb.fit(x_train,y_train)\n",
        "\n",
        "ny_pred = nb.predict(x_test)\n",
        "cm = confusion_matrix(y_test,ny_pred)\n",
        "\n",
        "nba = accuracy_score(y_test, ny_pred)\n",
        "print('accuracy score = ', accuracy_score(y_test, ny_pred))\n",
        "print(\"Report:\", classification_report(y_test, ny_pred))\n",
        "\n",
        "sns.heatmap(cm,annot=True,fmt=\"d\",cmap = \"Blues\")"
      ],
      "metadata": {
        "colab": {
          "base_uri": "https://localhost:8080/",
          "height": 456
        },
        "id": "TKFqZzeAZodD",
        "outputId": "f0947b7f-9fa9-4574-c73a-dfda48718c27"
      },
      "execution_count": 45,
      "outputs": [
        {
          "output_type": "stream",
          "name": "stdout",
          "text": [
            "accuracy score =  0.718560606060606\n",
            "Report:               precision    recall  f1-score   support\n",
            "\n",
            "           0       0.92      0.49      0.64      1334\n",
            "           1       0.65      0.95      0.77      1306\n",
            "\n",
            "    accuracy                           0.72      2640\n",
            "   macro avg       0.78      0.72      0.70      2640\n",
            "weighted avg       0.78      0.72      0.70      2640\n",
            "\n"
          ]
        },
        {
          "output_type": "execute_result",
          "data": {
            "text/plain": [
              "<matplotlib.axes._subplots.AxesSubplot at 0x7f3aa3b2d150>"
            ]
          },
          "metadata": {},
          "execution_count": 45
        },
        {
          "output_type": "display_data",
          "data": {
            "image/png": "[encoded data removed]",
            "text/plain": [
              "<Figure size 432x288 with 2 Axes>"
            ]
          },
          "metadata": {
            "needs_background": "light"
          }
        }
      ]
    },
    {
      "cell_type": "code",
      "source": [
        ""
      ],
      "metadata": {
        "id": "YK5nnXfCZsgm"
      },
      "execution_count": null,
      "outputs": []
    }
  ]
}