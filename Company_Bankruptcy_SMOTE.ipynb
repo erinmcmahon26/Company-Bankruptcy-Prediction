{
  "nbformat": 4,
  "nbformat_minor": 0,
  "metadata": {
    "colab": {
      "name": "Company_Bankruptcy_SMOTE.ipynb",
      "provenance": [],
      "toc_visible": true,
      "authorship_tag": "ABX9TyOFWqNo4knwa7EjCK+cNpgs"
    },
    "kernelspec": {
      "name": "python3",
      "display_name": "Python 3"
    },
    "language_info": {
      "name": "python"
    }
  },
  "cells": [
    {
      "cell_type": "markdown",
      "source": [
        "### Ingest Data"
      ],
      "metadata": {
        "id": "YADXLtG7OeN6"
      }
    },
    {
      "cell_type": "code",
      "execution_count": 61,
      "metadata": {
        "id": "bm68UkahTivp"
      },
      "outputs": [],
      "source": [
        "import pandas as pd\n",
        "import numpy as np\n",
        "import seaborn as sns\n",
        "import sklearn\n",
        "from sklearn import preprocessing\n",
        "from sklearn.preprocessing import StandardScaler\n",
        "from sklearn.model_selection import train_test_split, cross_val_score, cross_val_predict\n",
        "import matplotlib.pyplot as plt\n",
        "from matplotlib.pyplot import figure\n",
        "from patsy import dmatrices\n",
        "from statsmodels.stats.outliers_influence import variance_inflation_factor\n",
        "from sklearn.metrics import recall_score, confusion_matrix, precision_score, f1_score, accuracy_score, classification_report \n",
        "from sklearn.metrics import roc_auc_score, precision_recall_curve, roc_curve, confusion_matrix\n",
        "from sklearn.naive_bayes import GaussianNB\n",
        "from sklearn.linear_model import LogisticRegression\n",
        "from sklearn.svm import SVC\n",
        "from sklearn.svm import LinearSVR\n",
        "from sklearn.linear_model import SGDClassifier\n",
        "from numpy import arange\n",
        "from sklearn.model_selection import GridSearchCV\n",
        "from sklearn.model_selection import RepeatedKFold\n",
        "from sklearn.tree import DecisionTreeClassifier"
      ]
    },
    {
      "cell_type": "code",
      "source": [
        "df_bank = pd.read_csv('https://raw.githubusercontent.com/erinmcmahon26/Company-Bankruptcy-Prediction-Kaggle/main/company_bankruptcy.csv')"
      ],
      "metadata": {
        "id": "V6y5yVDQTs9s"
      },
      "execution_count": 62,
      "outputs": []
    },
    {
      "cell_type": "code",
      "source": [
        "sns.countplot(x='Bankrupt?', data=df_bank)"
      ],
      "metadata": {
        "colab": {
          "base_uri": "https://localhost:8080/",
          "height": 296
        },
        "id": "KVr5FnyvCq7K",
        "outputId": "b651c183-848a-4e98-b20b-f9326cda1994"
      },
      "execution_count": 63,
      "outputs": [
        {
          "output_type": "execute_result",
          "data": {
            "text/plain": [
              "<matplotlib.axes._subplots.AxesSubplot at 0x7ff08c02fcd0>"
            ]
          },
          "metadata": {},
          "execution_count": 63
        },
        {
          "output_type": "display_data",
          "data": {
            "image/png": "[encoded data removed]",
            "text/plain": [
              "<Figure size 432x288 with 1 Axes>"
            ]
          },
          "metadata": {
            "needs_background": "light"
          }
        }
      ]
    },
    {
      "cell_type": "code",
      "source": [
        "df_bank['Bankrupt?'].value_counts()"
      ],
      "metadata": {
        "colab": {
          "base_uri": "https://localhost:8080/"
        },
        "id": "Vr4oXGL8GN2a",
        "outputId": "d580dc00-2104-4e1a-e5f1-12019600939b"
      },
      "execution_count": 64,
      "outputs": [
        {
          "output_type": "execute_result",
          "data": {
            "text/plain": [
              "0    6599\n",
              "1     220\n",
              "Name: Bankrupt?, dtype: int64"
            ]
          },
          "metadata": {},
          "execution_count": 64
        }
      ]
    },
    {
      "cell_type": "markdown",
      "source": [
        "Due to this dataset being highly skewed, I am going to use SMOTE to even out the classes. SMOTE will oversample the minority class by synthesizing new examples based on the examples already provided. It will randomly select example and then assess k of the nearest neighbors for that example. Then a randomly selected neighbor will be chosen till the process has produced even classes. A downside to this approach is that the examples are being created without considering the majority class which could result in ambiguous examples. Most likely in the real world, this dataset would require additional data, a new business question be asked, or start from scratch. "
      ],
      "metadata": {
        "id": "ZwGdvTwpCvHI"
      }
    },
    {
      "cell_type": "markdown",
      "source": [
        "### Resampling using SMOTE"
      ],
      "metadata": {
        "id": "5m8sqt0qOjFk"
      }
    },
    {
      "cell_type": "code",
      "source": [
        "y = df_bank['Bankrupt?']\n",
        "x = df_bank.drop('Bankrupt?', axis=1)"
      ],
      "metadata": {
        "id": "yhpFZlUHVaH4"
      },
      "execution_count": 65,
      "outputs": []
    },
    {
      "cell_type": "code",
      "source": [
        "scaler = StandardScaler()\n",
        "x = scaler.fit_transform(x.astype(np.float64))"
      ],
      "metadata": {
        "id": "HfHxMW4cVfh9"
      },
      "execution_count": 66,
      "outputs": []
    },
    {
      "cell_type": "code",
      "source": [
        "import imblearn\n",
        "from imblearn import under_sampling, over_sampling\n",
        "from imblearn.over_sampling import SMOTE\n",
        "from imblearn.under_sampling import RandomUnderSampler\n",
        "from imblearn.pipeline import Pipeline\n",
        "from collections import Counter"
      ],
      "metadata": {
        "id": "ILY_pj6FU32q"
      },
      "execution_count": 67,
      "outputs": []
    },
    {
      "cell_type": "markdown",
      "source": [
        "Below we will oversample the minority class to have more examples than the majority as well as randomly undersample the majority class. Being able to oversample the minority class will help improve bias towards those examples while undersampling the majority class will decrease the bias to those examples. "
      ],
      "metadata": {
        "id": "JjBSij3FEsuA"
      }
    },
    {
      "cell_type": "code",
      "source": [
        "over = SMOTE(sampling_strategy=0.5)\n",
        "under = RandomUnderSampler(sampling_strategy=0.6)\n",
        "steps = [('o', over), ('u', under)]\n",
        "pipeline = Pipeline(steps=steps)"
      ],
      "metadata": {
        "id": "k4Fb-vjHFZ1A"
      },
      "execution_count": 68,
      "outputs": []
    },
    {
      "cell_type": "code",
      "source": [
        "x, y = pipeline.fit_resample(x, y)"
      ],
      "metadata": {
        "id": "zuIp0I26-y9E"
      },
      "execution_count": 69,
      "outputs": []
    },
    {
      "cell_type": "code",
      "source": [
        "x_train, x_test, y_train, y_test = train_test_split(x, y, test_size = .2, random_state = 42)"
      ],
      "metadata": {
        "id": "7JiwSuBhZNe-"
      },
      "execution_count": 70,
      "outputs": []
    },
    {
      "cell_type": "markdown",
      "source": [
        "### Models"
      ],
      "metadata": {
        "id": "21aKIOsQOojk"
      }
    },
    {
      "cell_type": "markdown",
      "source": [
        "#### SMV no kernal"
      ],
      "metadata": {
        "id": "I4qXYsd3Op_P"
      }
    },
    {
      "cell_type": "code",
      "source": [
        "svc = SVC()\n",
        "svc.fit(x_train, y_train)\n",
        "\n",
        "sy_pred = svc.predict(x_test)\n",
        "cm = confusion_matrix(y_test, sy_pred)\n",
        "\n",
        "sva = accuracy_score(y_test, sy_pred)\n",
        "print('accuracy score = ',accuracy_score(y_test, sy_pred))\n",
        "print(\"Classification Report\",classification_report(y_test, sy_pred))\n",
        "\n",
        "sns.heatmap(cm,annot=True,fmt=\"d\",cmap = \"Blues\")"
      ],
      "metadata": {
        "colab": {
          "base_uri": "https://localhost:8080/",
          "height": 456
        },
        "id": "ST4F4abwZEgK",
        "outputId": "35982916-5e50-4655-a01e-c03e244f7032"
      },
      "execution_count": 71,
      "outputs": [
        {
          "output_type": "stream",
          "name": "stdout",
          "text": [
            "accuracy score =  0.9170454545454545\n",
            "Classification Report               precision    recall  f1-score   support\n",
            "\n",
            "           0       0.93      0.93      0.93      1092\n",
            "           1       0.89      0.89      0.89       668\n",
            "\n",
            "    accuracy                           0.92      1760\n",
            "   macro avg       0.91      0.91      0.91      1760\n",
            "weighted avg       0.92      0.92      0.92      1760\n",
            "\n"
          ]
        },
        {
          "output_type": "execute_result",
          "data": {
            "text/plain": [
              "<matplotlib.axes._subplots.AxesSubplot at 0x7ff08c78da50>"
            ]
          },
          "metadata": {},
          "execution_count": 71
        },
        {
          "output_type": "display_data",
          "data": {
            "image/png": "[encoded data removed]",
            "text/plain": [
              "<Figure size 432x288 with 2 Axes>"
            ]
          },
          "metadata": {
            "needs_background": "light"
          }
        }
      ]
    },
    {
      "cell_type": "markdown",
      "source": [
        "#### Logistic Regression"
      ],
      "metadata": {
        "id": "iCpjay80Ot8q"
      }
    },
    {
      "cell_type": "code",
      "source": [
        "lr_model = LogisticRegression()\n",
        "lr_model.fit(x_train,y_train)\n",
        "accuracy_lr = lr_model.score(x_test,y_test)\n",
        "print(\"Logistic Regression accuracy is :\",accuracy_lr)\n",
        "ly_pred= lr_model.predict(x_test)\n",
        "report = classification_report(y_test,ly_pred)\n",
        "print(\"-\"*100)\n",
        "print(report)\n",
        "cm = confusion_matrix(y_test,lr_model.predict(x_test))\n",
        "sns.heatmap(cm,annot=True,fmt=\"d\",cmap = \"Blues\")"
      ],
      "metadata": {
        "colab": {
          "base_uri": "https://localhost:8080/",
          "height": 635
        },
        "id": "mRNMUBk5ZU9-",
        "outputId": "4dd2772b-88d5-4481-ae01-a1abedb68fbc"
      },
      "execution_count": 72,
      "outputs": [
        {
          "output_type": "stream",
          "name": "stdout",
          "text": [
            "Logistic Regression accuracy is : 0.8943181818181818\n",
            "----------------------------------------------------------------------------------------------------\n",
            "              precision    recall  f1-score   support\n",
            "\n",
            "           0       0.91      0.92      0.92      1092\n",
            "           1       0.87      0.85      0.86       668\n",
            "\n",
            "    accuracy                           0.89      1760\n",
            "   macro avg       0.89      0.89      0.89      1760\n",
            "weighted avg       0.89      0.89      0.89      1760\n",
            "\n"
          ]
        },
        {
          "output_type": "stream",
          "name": "stderr",
          "text": [
            "/usr/local/lib/python3.7/dist-packages/sklearn/linear_model/_logistic.py:818: ConvergenceWarning: lbfgs failed to converge (status=1):\n",
            "STOP: TOTAL NO. of ITERATIONS REACHED LIMIT.\n",
            "\n",
            "Increase the number of iterations (max_iter) or scale the data as shown in:\n",
            "    https://scikit-learn.org/stable/modules/preprocessing.html\n",
            "Please also refer to the documentation for alternative solver options:\n",
            "    https://scikit-learn.org/stable/modules/linear_model.html#logistic-regression\n",
            "  extra_warning_msg=_LOGISTIC_SOLVER_CONVERGENCE_MSG,\n"
          ]
        },
        {
          "output_type": "execute_result",
          "data": {
            "text/plain": [
              "<matplotlib.axes._subplots.AxesSubplot at 0x7ff08bf26250>"
            ]
          },
          "metadata": {},
          "execution_count": 72
        },
        {
          "output_type": "display_data",
          "data": {
            "image/png": "[encoded data removed]",
            "text/plain": [
              "<Figure size 432x288 with 2 Axes>"
            ]
          },
          "metadata": {
            "needs_background": "light"
          }
        }
      ]
    },
    {
      "cell_type": "markdown",
      "source": [
        "#### Naive Bayes"
      ],
      "metadata": {
        "id": "j9cIICKDOwHK"
      }
    },
    {
      "cell_type": "code",
      "source": [
        "nb = GaussianNB()\n",
        "nb.fit(x_train,y_train)\n",
        "\n",
        "ny_pred = nb.predict(x_test)\n",
        "cm = confusion_matrix(y_test,ny_pred)\n",
        "\n",
        "nba = accuracy_score(y_test, ny_pred)\n",
        "print('accuracy score = ', accuracy_score(y_test, ny_pred))\n",
        "print(\"Report:\", classification_report(y_test, ny_pred))\n",
        "\n",
        "sns.heatmap(cm,annot=True,fmt=\"d\",cmap = \"Blues\")"
      ],
      "metadata": {
        "colab": {
          "base_uri": "https://localhost:8080/",
          "height": 456
        },
        "id": "TKFqZzeAZodD",
        "outputId": "5c294544-2230-445c-b6a4-df5139bae8d3"
      },
      "execution_count": 73,
      "outputs": [
        {
          "output_type": "stream",
          "name": "stdout",
          "text": [
            "accuracy score =  0.6130681818181818\n",
            "Report:               precision    recall  f1-score   support\n",
            "\n",
            "           0       0.96      0.39      0.56      1092\n",
            "           1       0.50      0.97      0.66       668\n",
            "\n",
            "    accuracy                           0.61      1760\n",
            "   macro avg       0.73      0.68      0.61      1760\n",
            "weighted avg       0.78      0.61      0.59      1760\n",
            "\n"
          ]
        },
        {
          "output_type": "execute_result",
          "data": {
            "text/plain": [
              "<matplotlib.axes._subplots.AxesSubplot at 0x7ff08bec9f10>"
            ]
          },
          "metadata": {},
          "execution_count": 73
        },
        {
          "output_type": "display_data",
          "data": {
            "image/png": "[encoded data removed]",
            "text/plain": [
              "<Figure size 432x288 with 2 Axes>"
            ]
          },
          "metadata": {
            "needs_background": "light"
          }
        }
      ]
    },
    {
      "cell_type": "markdown",
      "source": [
        "### Conclusions"
      ],
      "metadata": {
        "id": "VW8LJvQ0O9Qk"
      }
    },
    {
      "cell_type": "code",
      "source": [
        "plt.figure(figsize= (8,7))\n",
        "ac = [accuracy_lr,sva,nba]\n",
        "name = ['Logistic Regression','SVM','Naive Bayes']\n",
        "sns.barplot(x = ac,y = name,palette='pastel')\n",
        "plt.title(\"Plotting the Model Accuracies\", fontsize=16, fontweight=\"bold\")"
      ],
      "metadata": {
        "colab": {
          "base_uri": "https://localhost:8080/",
          "height": 463
        },
        "id": "YK5nnXfCZsgm",
        "outputId": "fd544ba4-39db-43ec-b300-430827f34c32"
      },
      "execution_count": 74,
      "outputs": [
        {
          "output_type": "execute_result",
          "data": {
            "text/plain": [
              "Text(0.5, 1.0, 'Plotting the Model Accuracies')"
            ]
          },
          "metadata": {},
          "execution_count": 74
        },
        {
          "output_type": "display_data",
          "data": {
            "image/png": "[encoded data removed]",
            "text/plain": [
              "<Figure size 576x504 with 1 Axes>"
            ]
          },
          "metadata": {
            "needs_background": "light"
          }
        }
      ]
    },
    {
      "cell_type": "markdown",
      "source": [
        "After using SMOTE versus taking a sample of the original data (in my other notebook) there is almost a small change in accuracy for the LR and SVM models. There was however, an increase in both precision and recall F1 scores for both the LR and SVM.  Just using overfitting of the minority class could cause an increase in all model accuracy but this could allow for overgeneralizing and augmenting noisy regions, which could decrease the individual accuracy of predicting each class.\n",
        "\n",
        "This resampling was also performed by scaling the features due to the above models having assumptions about normalized data. Without scaling the features, the accuracy decreases significantly. "
      ],
      "metadata": {
        "id": "iXbC7FJCO-xM"
      }
    },
    {
      "cell_type": "code",
      "source": [
        ""
      ],
      "metadata": {
        "id": "zRlT_1qoCjJC"
      },
      "execution_count": null,
      "outputs": []
    }
  ]
}