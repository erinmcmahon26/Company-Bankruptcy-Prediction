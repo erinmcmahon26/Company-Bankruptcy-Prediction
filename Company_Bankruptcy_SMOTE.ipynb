{
  "nbformat": 4,
  "nbformat_minor": 0,
  "metadata": {
    "colab": {
      "name": "Company_Bankruptcy_SMOTE.ipynb",
      "provenance": [],
      "toc_visible": true,
      "authorship_tag": "ABX9TyP4PDar9/7mrGKUOBwTNfoO"
    },
    "kernelspec": {
      "name": "python3",
      "display_name": "Python 3"
    },
    "language_info": {
      "name": "python"
    }
  },
  "cells": [
    {
      "cell_type": "markdown",
      "source": [
        "### Ingest Data"
      ],
      "metadata": {
        "id": "YADXLtG7OeN6"
      }
    },
    {
      "cell_type": "code",
      "execution_count": 1,
      "metadata": {
        "id": "bm68UkahTivp",
        "colab": {
          "base_uri": "https://localhost:8080/"
        },
        "outputId": "503e53e5-bbd4-456f-b885-f0674440a144"
      },
      "outputs": [
        {
          "output_type": "stream",
          "name": "stderr",
          "text": [
            "/usr/local/lib/python3.7/dist-packages/statsmodels/tools/_testing.py:19: FutureWarning: pandas.util.testing is deprecated. Use the functions in the public API at pandas.testing instead.\n",
            "  import pandas.util.testing as tm\n"
          ]
        }
      ],
      "source": [
        "import pandas as pd\n",
        "import numpy as np\n",
        "import seaborn as sns\n",
        "import sklearn\n",
        "from sklearn import preprocessing\n",
        "from sklearn.preprocessing import StandardScaler\n",
        "from sklearn.model_selection import train_test_split, cross_val_score, cross_val_predict\n",
        "import matplotlib.pyplot as plt\n",
        "from matplotlib.pyplot import figure\n",
        "from patsy import dmatrices\n",
        "from statsmodels.stats.outliers_influence import variance_inflation_factor\n",
        "from sklearn.metrics import recall_score, confusion_matrix, precision_score, f1_score, accuracy_score, classification_report \n",
        "from sklearn.metrics import roc_auc_score, precision_recall_curve, roc_curve, confusion_matrix\n",
        "from sklearn.naive_bayes import GaussianNB\n",
        "from sklearn.linear_model import LogisticRegression\n",
        "from sklearn.svm import SVC\n",
        "from sklearn.svm import LinearSVR\n",
        "from sklearn.linear_model import SGDClassifier\n",
        "from numpy import arange\n",
        "from sklearn.model_selection import GridSearchCV\n",
        "from sklearn.model_selection import RepeatedKFold\n",
        "from sklearn.tree import DecisionTreeClassifier"
      ]
    },
    {
      "cell_type": "code",
      "source": [
        "df_bank = pd.read_csv('https://raw.githubusercontent.com/erinmcmahon26/Company-Bankruptcy-Prediction-Kaggle/main/company_bankruptcy.csv')"
      ],
      "metadata": {
        "id": "V6y5yVDQTs9s"
      },
      "execution_count": 2,
      "outputs": []
    },
    {
      "cell_type": "code",
      "source": [
        "sns.countplot(x='Bankrupt?', data=df_bank)"
      ],
      "metadata": {
        "colab": {
          "base_uri": "https://localhost:8080/",
          "height": 296
        },
        "id": "KVr5FnyvCq7K",
        "outputId": "6f1bbec7-ae63-412e-85e0-579d722f3e3c"
      },
      "execution_count": 3,
      "outputs": [
        {
          "output_type": "execute_result",
          "data": {
            "text/plain": [
              "<matplotlib.axes._subplots.AxesSubplot at 0x7fd9cd0f4c10>"
            ]
          },
          "metadata": {},
          "execution_count": 3
        },
        {
          "output_type": "display_data",
          "data": {
            "image/png": "[encoded data removed]",
            "text/plain": [
              "<Figure size 432x288 with 1 Axes>"
            ]
          },
          "metadata": {
            "needs_background": "light"
          }
        }
      ]
    },
    {
      "cell_type": "code",
      "source": [
        "df_bank['Bankrupt?'].value_counts()"
      ],
      "metadata": {
        "colab": {
          "base_uri": "https://localhost:8080/"
        },
        "id": "Vr4oXGL8GN2a",
        "outputId": "9dd05f78-e304-44ee-c065-5e801faf20ba"
      },
      "execution_count": 4,
      "outputs": [
        {
          "output_type": "execute_result",
          "data": {
            "text/plain": [
              "0    6599\n",
              "1     220\n",
              "Name: Bankrupt?, dtype: int64"
            ]
          },
          "metadata": {},
          "execution_count": 4
        }
      ]
    },
    {
      "cell_type": "markdown",
      "source": [
        "Due to this dataset being highly skewed, I am going to use SMOTE to even out the classes. SMOTE will oversample the minority class by synthesizing new examples based on the examples already provided. It will randomly select example and then assess k of the nearest neighbors for that example. Then a randomly selected neighbor will be chosen till the process has produced even classes. A downside to this approach is that the examples are being created without considering the majority class which could result in ambiguous examples. Most likely in the real world, this dataset would require additional data, a new business question be asked, or start from scratch. "
      ],
      "metadata": {
        "id": "ZwGdvTwpCvHI"
      }
    },
    {
      "cell_type": "markdown",
      "source": [
        "### Resampling using SMOTE"
      ],
      "metadata": {
        "id": "5m8sqt0qOjFk"
      }
    },
    {
      "cell_type": "code",
      "source": [
        "y = df_bank['Bankrupt?']\n",
        "x = df_bank.drop('Bankrupt?', axis=1)"
      ],
      "metadata": {
        "id": "yhpFZlUHVaH4"
      },
      "execution_count": 5,
      "outputs": []
    },
    {
      "cell_type": "code",
      "source": [
        "scaler = StandardScaler()\n",
        "x = scaler.fit_transform(x.astype(np.float64))"
      ],
      "metadata": {
        "id": "HfHxMW4cVfh9"
      },
      "execution_count": 6,
      "outputs": []
    },
    {
      "cell_type": "code",
      "source": [
        "x_train, x_test, y_train, y_test = train_test_split(x, y, test_size = .2, random_state = 42)"
      ],
      "metadata": {
        "id": "7JiwSuBhZNe-"
      },
      "execution_count": 7,
      "outputs": []
    },
    {
      "cell_type": "code",
      "source": [
        "import imblearn\n",
        "from imblearn import under_sampling, over_sampling\n",
        "from imblearn.over_sampling import SMOTE\n",
        "from imblearn.under_sampling import RandomUnderSampler\n",
        "from imblearn.pipeline import Pipeline\n",
        "from collections import Counter"
      ],
      "metadata": {
        "id": "ILY_pj6FU32q"
      },
      "execution_count": 8,
      "outputs": []
    },
    {
      "cell_type": "markdown",
      "source": [
        "Below we will oversample the minority class to have more examples than the majority as well as randomly undersample the majority class. Being able to oversample the minority class will help improve bias towards those examples while undersampling the majority class will decrease the bias to those examples. "
      ],
      "metadata": {
        "id": "JjBSij3FEsuA"
      }
    },
    {
      "cell_type": "code",
      "source": [
        "over = SMOTE(sampling_strategy=0.5)\n",
        "under = RandomUnderSampler(sampling_strategy=0.6)\n",
        "steps = [('o', over), ('u', under)]\n",
        "pipeline = Pipeline(steps=steps)"
      ],
      "metadata": {
        "id": "k4Fb-vjHFZ1A"
      },
      "execution_count": 9,
      "outputs": []
    },
    {
      "cell_type": "code",
      "source": [
        "x_train_sm, y_train_sm = pipeline.fit_resample(x_train, y_train)"
      ],
      "metadata": {
        "id": "zuIp0I26-y9E"
      },
      "execution_count": 10,
      "outputs": []
    },
    {
      "cell_type": "markdown",
      "source": [
        "### Models"
      ],
      "metadata": {
        "id": "21aKIOsQOojk"
      }
    },
    {
      "cell_type": "markdown",
      "source": [
        "#### SMV no kernal"
      ],
      "metadata": {
        "id": "I4qXYsd3Op_P"
      }
    },
    {
      "cell_type": "code",
      "source": [
        "svc = SVC()\n",
        "svc.fit(x_train_sm, y_train_sm)\n",
        "\n",
        "sy_pred = svc.predict(x_test)\n",
        "cm = confusion_matrix(y_test, sy_pred)\n",
        "\n",
        "sva = accuracy_score(y_test, sy_pred)\n",
        "print('accuracy score = ',accuracy_score(y_test, sy_pred))\n",
        "print(\"Classification Report\",classification_report(y_test, sy_pred))\n",
        "\n",
        "sns.heatmap(cm,annot=True,fmt=\"d\",cmap = \"Blues\")"
      ],
      "metadata": {
        "colab": {
          "base_uri": "https://localhost:8080/",
          "height": 456
        },
        "id": "ST4F4abwZEgK",
        "outputId": "5fa07009-5d59-4cad-e0a9-6b810f05535a"
      },
      "execution_count": 11,
      "outputs": [
        {
          "output_type": "stream",
          "name": "stdout",
          "text": [
            "accuracy score =  0.9010263929618768\n",
            "Classification Report               precision    recall  f1-score   support\n",
            "\n",
            "           0       0.99      0.91      0.95      1313\n",
            "           1       0.22      0.65      0.33        51\n",
            "\n",
            "    accuracy                           0.90      1364\n",
            "   macro avg       0.60      0.78      0.64      1364\n",
            "weighted avg       0.96      0.90      0.92      1364\n",
            "\n"
          ]
        },
        {
          "output_type": "execute_result",
          "data": {
            "text/plain": [
              "<matplotlib.axes._subplots.AxesSubplot at 0x7fd9cba44e50>"
            ]
          },
          "metadata": {},
          "execution_count": 11
        },
        {
          "output_type": "display_data",
          "data": {
            "image/png": "[encoded data removed]",
            "text/plain": [
              "<Figure size 432x288 with 2 Axes>"
            ]
          },
          "metadata": {
            "needs_background": "light"
          }
        }
      ]
    },
    {
      "cell_type": "markdown",
      "source": [
        "#### Logistic Regression"
      ],
      "metadata": {
        "id": "iCpjay80Ot8q"
      }
    },
    {
      "cell_type": "code",
      "source": [
        "lr_model = LogisticRegression()\n",
        "lr_model.fit(x_train_sm,y_train_sm)\n",
        "accuracy_lr = lr_model.score(x_test,y_test)\n",
        "print(\"Logistic Regression accuracy is :\",accuracy_lr)\n",
        "ly_pred= lr_model.predict(x_test)\n",
        "report = classification_report(y_test,ly_pred)\n",
        "print(\"-\"*100)\n",
        "print(report)\n",
        "cm = confusion_matrix(y_test,lr_model.predict(x_test))\n",
        "sns.heatmap(cm,annot=True,fmt=\"d\",cmap = \"Blues\")"
      ],
      "metadata": {
        "colab": {
          "base_uri": "https://localhost:8080/",
          "height": 612
        },
        "id": "mRNMUBk5ZU9-",
        "outputId": "fb450d56-f337-4d21-ccb4-b67f192ddafa"
      },
      "execution_count": 12,
      "outputs": [
        {
          "output_type": "stream",
          "name": "stderr",
          "text": [
            "/usr/local/lib/python3.7/dist-packages/sklearn/linear_model/_logistic.py:818: ConvergenceWarning: lbfgs failed to converge (status=1):\n",
            "STOP: TOTAL NO. of ITERATIONS REACHED LIMIT.\n",
            "\n",
            "Increase the number of iterations (max_iter) or scale the data as shown in:\n",
            "    https://scikit-learn.org/stable/modules/preprocessing.html\n",
            "Please also refer to the documentation for alternative solver options:\n",
            "    https://scikit-learn.org/stable/modules/linear_model.html#logistic-regression\n",
            "  extra_warning_msg=_LOGISTIC_SOLVER_CONVERGENCE_MSG,\n"
          ]
        },
        {
          "output_type": "stream",
          "name": "stdout",
          "text": [
            "Logistic Regression accuracy is : 0.8958944281524927\n",
            "----------------------------------------------------------------------------------------------------\n",
            "              precision    recall  f1-score   support\n",
            "\n",
            "           0       0.99      0.90      0.94      1313\n",
            "           1       0.22      0.71      0.34        51\n",
            "\n",
            "    accuracy                           0.90      1364\n",
            "   macro avg       0.60      0.80      0.64      1364\n",
            "weighted avg       0.96      0.90      0.92      1364\n",
            "\n"
          ]
        },
        {
          "output_type": "execute_result",
          "data": {
            "text/plain": [
              "<matplotlib.axes._subplots.AxesSubplot at 0x7fd9c395c690>"
            ]
          },
          "metadata": {},
          "execution_count": 12
        },
        {
          "output_type": "display_data",
          "data": {
            "image/png": "[encoded data removed]",
            "text/plain": [
              "<Figure size 432x288 with 2 Axes>"
            ]
          },
          "metadata": {
            "needs_background": "light"
          }
        }
      ]
    },
    {
      "cell_type": "markdown",
      "source": [
        "#### Naive Bayes"
      ],
      "metadata": {
        "id": "j9cIICKDOwHK"
      }
    },
    {
      "cell_type": "code",
      "source": [
        "nb = GaussianNB()\n",
        "nb.fit(x_train_sm,y_train_sm)\n",
        "\n",
        "ny_pred = nb.predict(x_test)\n",
        "cm = confusion_matrix(y_test,ny_pred)\n",
        "\n",
        "nba = accuracy_score(y_test, ny_pred)\n",
        "print('accuracy score = ', accuracy_score(y_test, ny_pred))\n",
        "print(\"Report:\", classification_report(y_test, ny_pred))\n",
        "\n",
        "sns.heatmap(cm,annot=True,fmt=\"d\",cmap = \"Blues\")"
      ],
      "metadata": {
        "colab": {
          "base_uri": "https://localhost:8080/",
          "height": 456
        },
        "id": "TKFqZzeAZodD",
        "outputId": "2f4ad7ff-e793-4cb1-d3f1-4067e6b3efc0"
      },
      "execution_count": 13,
      "outputs": [
        {
          "output_type": "stream",
          "name": "stdout",
          "text": [
            "accuracy score =  0.22947214076246333\n",
            "Report:               precision    recall  f1-score   support\n",
            "\n",
            "           0       0.98      0.20      0.34      1313\n",
            "           1       0.04      0.90      0.08        51\n",
            "\n",
            "    accuracy                           0.23      1364\n",
            "   macro avg       0.51      0.55      0.21      1364\n",
            "weighted avg       0.95      0.23      0.33      1364\n",
            "\n"
          ]
        },
        {
          "output_type": "execute_result",
          "data": {
            "text/plain": [
              "<matplotlib.axes._subplots.AxesSubplot at 0x7fd9c3885150>"
            ]
          },
          "metadata": {},
          "execution_count": 13
        },
        {
          "output_type": "display_data",
          "data": {
            "image/png": "[encoded data removed]",
            "text/plain": [
              "<Figure size 432x288 with 2 Axes>"
            ]
          },
          "metadata": {
            "needs_background": "light"
          }
        }
      ]
    },
    {
      "cell_type": "markdown",
      "source": [
        "### Conclusions"
      ],
      "metadata": {
        "id": "VW8LJvQ0O9Qk"
      }
    },
    {
      "cell_type": "code",
      "source": [
        "plt.figure(figsize= (8,7))\n",
        "ac = [accuracy_lr,sva,nba]\n",
        "name = ['Logistic Regression','SVM','Naive Bayes']\n",
        "sns.barplot(x = ac,y = name,palette='pastel')\n",
        "plt.title(\"Plotting the Model Accuracies\", fontsize=16, fontweight=\"bold\")"
      ],
      "metadata": {
        "colab": {
          "base_uri": "https://localhost:8080/",
          "height": 463
        },
        "id": "YK5nnXfCZsgm",
        "outputId": "18afc534-617d-4953-c694-2d0b05be35c2"
      },
      "execution_count": 14,
      "outputs": [
        {
          "output_type": "execute_result",
          "data": {
            "text/plain": [
              "Text(0.5, 1.0, 'Plotting the Model Accuracies')"
            ]
          },
          "metadata": {},
          "execution_count": 14
        },
        {
          "output_type": "display_data",
          "data": {
            "image/png": "[encoded data removed]",
            "text/plain": [
              "<Figure size 576x504 with 1 Axes>"
            ]
          },
          "metadata": {
            "needs_background": "light"
          }
        }
      ]
    },
    {
      "cell_type": "markdown",
      "source": [
        "After using SMOTE versus taking a sample of the original data (in my other notebook) there is almost a small change in accuracy for the LR and SVM models. There was however, an increase in both precision and recall F1 scores for both the LR and SVM.  Just using overfitting of the minority class could cause an increase in all model accuracy but this could allow for overgeneralizing and augmenting noisy regions, which could decrease the individual accuracy of predicting each class.\n",
        "\n",
        "This resampling was also performed by scaling the features due to the above models having assumptions about normalized data. Without scaling the features, the accuracy decreases significantly. \n",
        "\n",
        "The Naive Bayes model accuracy dropped significantly, this could be due to the nature of the model itself. My theory for this is because the probabilities of the classes are being affected by SMOTE and Naive Bayes relies heavily on looking at probabilities. "
      ],
      "metadata": {
        "id": "iXbC7FJCO-xM"
      }
    },
    {
      "cell_type": "code",
      "source": [
        ""
      ],
      "metadata": {
        "id": "z-7bc3qM0RMw"
      },
      "execution_count": null,
      "outputs": []
    }
  ]
}